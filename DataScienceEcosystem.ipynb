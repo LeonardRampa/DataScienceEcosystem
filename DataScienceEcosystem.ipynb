{
 "cells": [
  {
   "cell_type": "markdown",
   "id": "c9c620b6-9fda-4ca3-8875-45b94618b3d5",
   "metadata": {},
   "source": [
    "# Data Science Tools and Ecosystem"
   ]
  },
  {
   "cell_type": "markdown",
   "id": "90463422-1444-47fc-af4a-201d05200e4b",
   "metadata": {},
   "source": [
    "In this notebook, data science tools and ecosystem are sumarised."
   ]
  },
  {
   "cell_type": "markdown",
   "id": "9359eb24-f69b-421e-b4cb-7afbb521c527",
   "metadata": {},
   "source": [
    "__Objectives:__"
   ]
  },
  {
   "cell_type": "markdown",
   "id": "53a2b1df-ea4a-4997-a65f-d36c49062bf7",
   "metadata": {},
   "source": [
    "- List popular languages in data science.\n",
    "- List commonly used libraries in data science.\n",
    "- Multiply and add numbers.\n",
    "- Create tables using markdown cells."
   ]
  },
  {
   "cell_type": "markdown",
   "id": "043d0216-ed43-4b3a-b377-90f6d735a3c6",
   "metadata": {},
   "source": [
    "Some of the commonly used libraries in data science include:\n",
    "1. Python\n",
    "2. R\n",
    "3. Julia"
   ]
  },
  {
   "cell_type": "markdown",
   "id": "556a579c-d4e9-4ba8-8efc-cc9a3a7721cb",
   "metadata": {},
   "source": [
    "| Data Science Tools |\n",
    "|--------------------|\n",
    "|Jupyter Notebook|\n",
    "|R-Studio|\n",
    "|Visual Studio|"
   ]
  },
  {
   "cell_type": "markdown",
   "id": "90ca2ea9-9629-48de-9d18-3a300bfa5b9c",
   "metadata": {},
   "source": [
    "### Below are a few examples of evaluating arithmetic expressions in python"
   ]
  },
  {
   "cell_type": "code",
   "execution_count": 6,
   "id": "4fdf645d-196e-412d-90d8-3ded0f097681",
   "metadata": {},
   "outputs": [
    {
     "data": {
      "text/plain": [
       "17"
      ]
     },
     "execution_count": 6,
     "metadata": {},
     "output_type": "execute_result"
    }
   ],
   "source": [
    "(3*4)+5"
   ]
  },
  {
   "cell_type": "markdown",
   "id": "5939822e-816a-4a25-a978-dbc72faf6f4b",
   "metadata": {},
   "source": [
    "This will convert 200 minutes into hours by deviding by 60"
   ]
  },
  {
   "cell_type": "code",
   "execution_count": 7,
   "id": "632e886c-230d-4c53-80ca-84202f9ac618",
   "metadata": {},
   "outputs": [
    {
     "data": {
      "text/plain": [
       "3.3333333333333335"
      ]
     },
     "execution_count": 7,
     "metadata": {},
     "output_type": "execute_result"
    }
   ],
   "source": [
    "200/60"
   ]
  },
  {
   "cell_type": "markdown",
   "id": "43975359-753c-4484-9fdf-c1b585dc2a90",
   "metadata": {},
   "source": [
    "## Author"
   ]
  },
  {
   "cell_type": "markdown",
   "id": "18cfa37d-6e1a-40a5-9468-cac2ab545df3",
   "metadata": {},
   "source": [
    "Sims Rampa"
   ]
  },
  {
   "cell_type": "code",
   "execution_count": null,
   "id": "5e6320c0-3355-4fe1-a7be-44eb03808ec8",
   "metadata": {},
   "outputs": [],
   "source": []
  }
 ],
 "metadata": {
  "kernelspec": {
   "display_name": "Python 3 (ipykernel)",
   "language": "python",
   "name": "python3"
  },
  "language_info": {
   "codemirror_mode": {
    "name": "ipython",
    "version": 3
   },
   "file_extension": ".py",
   "mimetype": "text/x-python",
   "name": "python",
   "nbconvert_exporter": "python",
   "pygments_lexer": "ipython3",
   "version": "3.13.5"
  }
 },
 "nbformat": 4,
 "nbformat_minor": 5
}
